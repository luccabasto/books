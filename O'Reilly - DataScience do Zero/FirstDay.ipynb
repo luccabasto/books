{
 "cells": [
  {
   "cell_type": "markdown",
   "metadata": {},
   "source": [
    "### Encontrando Conectores-Chave\n",
    "\n",
    "<p>Contexto: Meu primeiro dia de trabalho na DataSciencester e o vice-presidente de Rede (networking) está cheio de perguntas sobre o usuário.</p>\n",
    "\n",
    "<p>Ele quer que eu identifique quem são os \"conectores-chave\" entre os cientistas de dados. Para isso, me fornece uma parte de toda rede da DataSciencester.</p>\n",
    "\n",
    "- Como se parece essa parte dos Dados? \n",
    "Consiste em uma lista de usuários, cada um representado por um <code>dict</code> que contém um <code>id (number)</code> para cada usuário(a) e um name. \n",
    "\n",
    "LET'S CODE!!!"
   ]
  },
  {
   "cell_type": "code",
   "execution_count": 12,
   "metadata": {},
   "outputs": [],
   "source": [
    "users = [\n",
    "    {\"id\": 0, \"name\": \"Hero\"},\n",
    "    {\"id\": 1, \"name\": \"Dunn\"},\n",
    "    {\"id\": 2, \"name\": \"Sue\"},\n",
    "    {\"id\": 3, \"name\": \"Chi\"},\n",
    "    {\"id\": 4, \"name\": \"Thor\"},\n",
    "    {\"id\": 5, \"name\": \"Clive\"},\n",
    "    {\"id\": 6, \"name\": \"Hicks\"},\n",
    "    {\"id\": 7, \"name\": \"Devin\"},\n",
    "    {\"id\": 8, \"name\": \"Kate\"},\n",
    "    {\"id\": 9, \"name\": \"Klein\"},\n",
    "]\n",
    "\n",
    "## Dados \"amigávéis\" - representados por uma lista de pares IDs\n",
    "\n",
    "friendships = [ (0,1),(0,2),(1,2),(1,3),(2,3),(3,4),\n",
    "                (4,5),(5,6),(5,7),(6,8),(7,8),(8,9)\n",
    "            ]\n",
    "\n",
    "## Nesse cenário a tupla (0,1) indica que os cientistas de dados \n",
    "# com o id 0 e o id 1 são amigos."
   ]
  },
  {
   "cell_type": "markdown",
   "metadata": {},
   "source": [
    "<img src=\"A rede DataSciencester.png\" alt=\"rede DataSciencester - Livro\"/>\n",
    "\n",
    "A rede DataSciencester"
   ]
  },
  {
   "cell_type": "code",
   "execution_count": 14,
   "metadata": {},
   "outputs": [],
   "source": [
    "## Adicionado uma lista de amigos para cada usuário. \n",
    "\n",
    "# 1 - Configurando a propriedade 'friends' para cada usuário em uma lista vazia\n",
    "\n",
    "for user in users: user[\"friends\"] = []\n",
    "\n",
    "# 2 - Povoando a lista com os dados de 'friendships'\n",
    "\n",
    "for i, j in friendships:\n",
    "    # Funciona porque users[i] é o usuário cujo o id é i\n",
    "    users[i][\"friends\"].append(users[j]) # Adiciona como amigo de j\n",
    "    users[j][\"friends\"].append(users[i]) # Adiciona como amigo de i"
   ]
  },
  {
   "cell_type": "markdown",
   "metadata": {},
   "source": [
    "### Qual é o número médio de conexões? "
   ]
  },
  {
   "cell_type": "code",
   "execution_count": 16,
   "metadata": {},
   "outputs": [
    {
     "name": "stdout",
     "output_type": "stream",
     "text": [
      "24\n"
     ]
    }
   ],
   "source": [
    "## 1 - Encontramos o número total de conexões, resumindo os tamanhos de todas as listas de friends \n",
    "# Quantos amigos o usuário tem? \n",
    "def number_of_friends(user):\n",
    "    return len(user[\"friends\"]) # Tamanho da lista friend_ids\n",
    "total_connections = sum(number_of_friends(user) for user in users)\n",
    "\n",
    "print(total_connections)\n"
   ]
  },
  {
   "cell_type": "code",
   "execution_count": 17,
   "metadata": {},
   "outputs": [
    {
     "name": "stdout",
     "output_type": "stream",
     "text": [
      "2.4\n"
     ]
    }
   ],
   "source": [
    "## 2 - Apenas divimos pelo número de usuários \n",
    "# from_future_imports division --- Divisão inteira está incompleta\n",
    "num_users = len(users)\n",
    "avg_connections = total_connections / num_users\n",
    "\n",
    "print(avg_connections)"
   ]
  },
  {
   "cell_type": "markdown",
   "metadata": {},
   "source": [
    "Também posso encontrar as pessoas mais conectadas - são as que possuem o maior número de amigos. \n",
    "\n",
    "Como não há muitos usuários, posso ordená-los de \"muito amigos\" para \"menos amigos\""
   ]
  },
  {
   "cell_type": "code",
   "execution_count": 25,
   "metadata": {},
   "outputs": [
    {
     "name": "stdout",
     "output_type": "stream",
     "text": [
      "[(9, 1), (8, 3), (7, 2), (6, 2), (5, 3), (4, 2), (3, 3), (2, 3), (1, 3), (0, 2)]\n"
     ]
    }
   ],
   "source": [
    "## Criando uma lista (user_id, number_of_friends)\n",
    "\n",
    "num_friends_by_id = [(user[\"id\"], number_of_friends(user)) for user in users]\n",
    "\n",
    "sorted_num_friends_by_id = sorted(num_friends_by_id, \n",
    "       key=lambda user_id_num_friends : user_id_num_friends,\n",
    "       reverse=True)\n",
    "\n",
    "print(sorted_num_friends_by_id)\n",
    "\n",
    "# 'user_id_num_friends' é a tupla que representa cada elemento \n",
    "# em 'num_friends_by_id'"
   ]
  },
  {
   "cell_type": "markdown",
   "metadata": {},
   "source": [
    "### Cientistas de Dados que você talvez conheça\n",
    "\n",
    "Para estimular conexões entre os seus membros, tenho a ideia de desenvolver sugestões de 'Cientistas de dados que você talvez conheça'.\n",
    "Como primeiro instinto surge sigerir um usuário que possa conhecer amigos de amigos. \n",
    "\n",
    "Fica mais fácil de computar: para cada amigo de um usuário, itera sobre os amigos daquela pessoa, e coleta todos os resultados. "
   ]
  },
  {
   "cell_type": "code",
   "execution_count": 34,
   "metadata": {},
   "outputs": [
    {
     "name": "stdout",
     "output_type": "stream",
     "text": [
      "[1, 2]\n",
      "[0, 2, 3]\n",
      "[0, 1, 3]\n"
     ]
    }
   ],
   "source": [
    "def friends_of_ids_bad(user):\n",
    "    return [foaf[\"id\"] # 'foaf é abreviação de friends of a friend'\n",
    "            for friend in user[\"friends\"] # para cada amigo de usuário\n",
    "            for foaf in friend[\"friends\"] # pega cada _their_friends\n",
    "            ]\n",
    "\n",
    "print([friend[\"id\"] for friend in users[0][\"friends\"]])\n",
    "print([friend[\"id\"] for friend in users[1][\"friends\"]])\n",
    "print([friend[\"id\"] for friend in users[2][\"friends\"]])"
   ]
  },
  {
   "cell_type": "markdown",
   "metadata": {},
   "source": [
    "Saber que as pessoas são amigas-de-amigas de diversas maneiras parece uma informação interessante, então talvez devo produzir uma contagem de amigos em comum. Definitivamente, devemos usar uma função de ajuda para excluir as pessoas que já são conhecidas do usuário: "
   ]
  },
  {
   "cell_type": "code",
   "execution_count": 39,
   "metadata": {},
   "outputs": [
    {
     "name": "stdout",
     "output_type": "stream",
     "text": [
      "Counter({0: 2, 5: 1})\n"
     ]
    }
   ],
   "source": [
    "from collections import Counter\n",
    "\n",
    "def not_the_same(user,other_user): # Verifica se dois usuários são diferentes comparando seus IDs\n",
    "    return user[\"id\"] != other_user[\"id\"]\n",
    "\n",
    "def not_friends(user,other_user): # Verifica se 'other_user' não está na lista de amigos de 'user'\n",
    "    return all(not_the_same(friend,other_user)\n",
    "               for friend in user[\"friends\"])\n",
    "\n",
    "def friends_of_friends_ids(user): # Criando um contatodr dos IDs dos amigos dos amigos do usuário, exceto o próprio usuário e seus amigos diretos.\n",
    "    return Counter(foaf[\"id\"]\n",
    "                   for friend in user[\"friends\"] # para cada um dos meus amigos\n",
    "                   for foaf in friend[\"friends\"] # que contam 'their' amigos\n",
    "                   if not_the_same(user,foaf) # que não sejam eu\n",
    "                   and not_friends(user,foaf)) # e que não são meus amigos\n",
    "\n",
    "print (friends_of_friends_ids(users[3]))"
   ]
  }
 ],
 "metadata": {
  "kernelspec": {
   "display_name": "Python 3",
   "language": "python",
   "name": "python3"
  },
  "language_info": {
   "codemirror_mode": {
    "name": "ipython",
    "version": 3
   },
   "file_extension": ".py",
   "mimetype": "text/x-python",
   "name": "python",
   "nbconvert_exporter": "python",
   "pygments_lexer": "ipython3",
   "version": "3.12.3"
  }
 },
 "nbformat": 4,
 "nbformat_minor": 2
}
